{
    "cells": [
        {
            "cell_type": "markdown",
            "metadata": {},
            "source": [
                "# Explore here"
            ]
        },
        {
            "cell_type": "code",
            "execution_count": 10,
            "metadata": {},
            "outputs": [],
            "source": [
                "import os\n",
                "from sqlalchemy import create_engine\n",
                "import pandas as pd\n",
                "from dotenv import load_dotenv\n",
                "import spotipy\n",
                "from spotipy.oauth2 import SpotifyClientCredentials\n",
                "import matplotlib.pyplot as plt\n",
                "\n",
                "# load the .env file variables\n",
                "load_dotenv()\n"
            ]
        },
        {
            "cell_type": "code",
            "execution_count": 2,
            "metadata": {},
            "outputs": [],
            "source": [
                "# making connection with the API\n",
                "client_id = os.environ.get(\"CLIENT_ID\")\n",
                "client_secret = os.environ.get(\"CLIENT_SECRET\")\n",
                "\n",
                "auth_manager = SpotifyClientCredentials(client_id= client_id, client_secret= client_secret)\n",
                "\n",
                "# making API requests\n",
                "\n",
                "artisturl = '4gzpq5DPGxSnKTe4SA8HAU'\n",
                "sp = spotipy.Spotify(auth_manager=auth_manager)\n",
                "results = sp.artist_top_tracks(artisturl)"
            ]
        },
        {
            "cell_type": "code",
            "execution_count": 3,
            "metadata": {},
            "outputs": [],
            "source": [
                "# extract name, popularity and duration in seconds\n",
                "\n",
                "tracks = []\n",
                "popularity = []\n",
                "duration = []\n",
                "for track in results['tracks'][:10]:\n",
                "    tracks.append(track['name'])\n",
                "    popularity.append(track['popularity'])\n",
                "    duration.append(round(track['duration_ms']/1000/60, 2))"
            ]
        },
        {
            "cell_type": "code",
            "execution_count": 4,
            "metadata": {},
            "outputs": [],
            "source": [
                "# transform request into DataFrame\n",
                "songs = {\"Track\": tracks, \"Popularity\": popularity, \"Duration\": duration}\n",
                "songs_df = pd.DataFrame(songs)"
            ]
        },
        {
            "cell_type": "code",
            "execution_count": 9,
            "metadata": {},
            "outputs": [
                {
                    "data": {
                        "text/html": [
                            "<div>\n",
                            "<style scoped>\n",
                            "    .dataframe tbody tr th:only-of-type {\n",
                            "        vertical-align: middle;\n",
                            "    }\n",
                            "\n",
                            "    .dataframe tbody tr th {\n",
                            "        vertical-align: top;\n",
                            "    }\n",
                            "\n",
                            "    .dataframe thead th {\n",
                            "        text-align: right;\n",
                            "    }\n",
                            "</style>\n",
                            "<table border=\"1\" class=\"dataframe\">\n",
                            "  <thead>\n",
                            "    <tr style=\"text-align: right;\">\n",
                            "      <th></th>\n",
                            "      <th>Track</th>\n",
                            "      <th>Popularity</th>\n",
                            "      <th>Duration</th>\n",
                            "    </tr>\n",
                            "  </thead>\n",
                            "  <tbody>\n",
                            "    <tr>\n",
                            "      <th>0</th>\n",
                            "      <td>Yellow</td>\n",
                            "      <td>92</td>\n",
                            "      <td>4.45</td>\n",
                            "    </tr>\n",
                            "    <tr>\n",
                            "      <th>1</th>\n",
                            "      <td>Viva La Vida</td>\n",
                            "      <td>88</td>\n",
                            "      <td>4.04</td>\n",
                            "    </tr>\n",
                            "    <tr>\n",
                            "      <th>2</th>\n",
                            "      <td>Something Just Like This</td>\n",
                            "      <td>88</td>\n",
                            "      <td>4.12</td>\n",
                            "    </tr>\n",
                            "  </tbody>\n",
                            "</table>\n",
                            "</div>"
                        ],
                        "text/plain": [
                            "                      Track  Popularity  Duration\n",
                            "0                    Yellow          92      4.45\n",
                            "1              Viva La Vida          88      4.04\n",
                            "2  Something Just Like This          88      4.12"
                        ]
                    },
                    "execution_count": 9,
                    "metadata": {},
                    "output_type": "execute_result"
                }
            ],
            "source": [
                "#Top 3 songs\n",
                "\n",
                "songs_top_3 = songs_df[:3]\n",
                "songs_top_3"
            ]
        },
        {
            "cell_type": "code",
            "execution_count": 23,
            "metadata": {},
            "outputs": [
                {
                    "data": {
                        "image/png": "[encoded data removed]",
                        "text/plain": [
                            "<Figure size 640x480 with 1 Axes>"
                        ]
                    },
                    "metadata": {},
                    "output_type": "display_data"
                }
            ],
            "source": [
                "# Analyzing statistical relationship with a plot\n",
                "\n",
                "x = songs_df['Duration']\n",
                "y = songs_df['Popularity']\n",
                "\n",
                "plt.scatter(x, y)\n",
                "plt.xlabel(\"DURATION\")\n",
                "plt.ylabel(\"POPULARITY\")\n",
                "plt.show()"
            ]
        },
        {
            "cell_type": "markdown",
            "metadata": {},
            "source": [
                "Upon observing this plot, we can see that duration does not have a relationship with popularity. For instance, there are two songs with almost identical durations but different levels of popularity. Additionally, there is a song that lasts longer but has the same level of popularity as one of the shorter songs."
            ]
        }
    ],
    "metadata": {
        "kernelspec": {
            "display_name": "Python 3.8.13 64-bit ('3.8.13')",
            "language": "python",
            "name": "python3"
        },
        "language_info": {
            "codemirror_mode": {
                "name": "ipython",
                "version": 3
            },
            "file_extension": ".py",
            "mimetype": "text/x-python",
            "name": "python",
            "nbconvert_exporter": "python",
            "pygments_lexer": "ipython3",
            "version": "3.11.4"
        },
        "orig_nbformat": 4,
        "vscode": {
            "interpreter": {
                "hash": "110cc1dee26208153f2972f08a2ad52b6a56238dc66d48e87fb757ef2996db56"
            }
        }
    },
    "nbformat": 4,
    "nbformat_minor": 2
}
